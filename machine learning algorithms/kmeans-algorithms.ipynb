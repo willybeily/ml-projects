{
 "cells": [
  {
   "cell_type": "code",
   "execution_count": 21,
   "metadata": {},
   "outputs": [],
   "source": [
    "import numpy as np\n",
    "import matplotlib.pyplot as plt\n",
    "\n",
    "from sklearn.datasets import make_blobs\n",
    "\n",
    "import random"
   ]
  },
  {
   "cell_type": "code",
   "execution_count": 22,
   "metadata": {},
   "outputs": [],
   "source": [
    "X, _ = make_blobs(centers=3, random_state=42)"
   ]
  },
  {
   "cell_type": "code",
   "execution_count": 23,
   "metadata": {},
   "outputs": [
    {
     "data": {
      "text/plain": [
       "<matplotlib.collections.PathCollection at 0x1a1ce55198>"
      ]
     },
     "execution_count": 23,
     "metadata": {},
     "output_type": "execute_result"
    },
    {
     "data": {
      "image/png": "[encoded data removed]",
      "text/plain": [
       "<Figure size 432x288 with 1 Axes>"
      ]
     },
     "metadata": {
      "needs_background": "light"
     },
     "output_type": "display_data"
    }
   ],
   "source": [
    "plt.scatter(X[:, 0], X[:, 1])"
   ]
  },
  {
   "cell_type": "code",
   "execution_count": 27,
   "metadata": {},
   "outputs": [],
   "source": [
    "class Cluster:\n",
    "    \n",
    "    def __init__(self, center, name):\n",
    "        self.center = center\n",
    "        self.name = name\n",
    "        self.points= []\n",
    "        \n",
    "    def distance(self, point):\n",
    "        return np.sqrt(np.sum((self.center - point) ** 2))\n",
    "    \n",
    "    def relocate(self):\n",
    "        self.center = np.mean(self.points, axis=0)\n",
    "        self.points.clear()\n",
    "\n",
    "class KMeansCustom:\n",
    "    \n",
    "    def __init__(self, n_clusters=5, max_iters=20, n_init = 10):\n",
    "        self.max_iters = max_iters\n",
    "        self.n_clusters = n_clusters\n",
    "        self.n_init = n_init\n",
    "        \n",
    "    def fit(self, X):\n",
    "        \n",
    "        solutions = []\n",
    "        \n",
    "        for init in range(self.n_init):\n",
    "        \n",
    "            clusters = []\n",
    "            for i in range(self.n_clusters):\n",
    "                cluster = Cluster(center=random.choice(X), name=i)\n",
    "                clusters.append(cluster)\n",
    "\n",
    "            errors = []\n",
    "\n",
    "            for it in range(self.max_iters):\n",
    "\n",
    "                # voting\n",
    "                labels = []\n",
    "\n",
    "                for point in X:\n",
    "\n",
    "                    # collect distance of point to all clusters\n",
    "                    distances = []\n",
    "                    for cluster in clusters:\n",
    "                        distance = cluster.distance(point)\n",
    "                        distances.append((distance, cluster.name))\n",
    "\n",
    "                    # sort and select cluster with min distance \n",
    "                    distance, cluster_name = sorted(distances)[0]\n",
    "\n",
    "                    # customer voted who\n",
    "                    labels.append(cluster_name)\n",
    "\n",
    "                    # who voted me\n",
    "                    cluster = clusters[cluster_name]\n",
    "                    cluster.points.append(point)\n",
    "\n",
    "                err = self.error(labels, clusters, X)\n",
    "                errors.append(err)\n",
    "\n",
    "                for cluster in clusters:\n",
    "                    cluster.relocate()\n",
    "            \n",
    "            solutions.append([errors[-1], labels, clusters])\n",
    "            \n",
    "        \n",
    "        sorted_sols = sorted(solutions, key= lambda item:item[0])\n",
    "        err, labels, clusters = sorted_sols[0]\n",
    "        \n",
    "        self.labels_ = np.array(labels)\n",
    "        self.cluster_centers_ = np.array([cluster.center for cluster in clusters])\n",
    "        \n",
    "    \n",
    "    def error(self, labels, clusters, X):\n",
    "        \n",
    "        err = 0\n",
    "        \n",
    "        for point, label in zip(X, labels):\n",
    "            cluster = clusters[label]\n",
    "            err += cluster.distance(point)\n",
    "        \n",
    "        return err / len(X)\n",
    "            \n",
    "        "
   ]
  },
  {
   "cell_type": "code",
   "execution_count": 28,
   "metadata": {},
   "outputs": [
    {
     "name": "stderr",
     "output_type": "stream",
     "text": [
      "/Users/anuj/anaconda3/envs/mod/lib/python3.6/site-packages/numpy/core/fromnumeric.py:3335: RuntimeWarning: Mean of empty slice.\n",
      "  out=out, **kwargs)\n",
      "/Users/anuj/anaconda3/envs/mod/lib/python3.6/site-packages/numpy/core/_methods.py:161: RuntimeWarning: invalid value encountered in double_scalars\n",
      "  ret = ret.dtype.type(ret / rcount)\n"
     ]
    },
    {
     "data": {
      "image/png": "[encoded data removed]",
      "text/plain": [
       "<Figure size 432x288 with 1 Axes>"
      ]
     },
     "metadata": {
      "needs_background": "light"
     },
     "output_type": "display_data"
    }
   ],
   "source": [
    "model = KMeansCustom(3)\n",
    "model.fit(X)\n",
    "\n",
    "plt.scatter(X[:, 0], X[:, 1], c=model.labels_)\n",
    "\n",
    "for center in model.cluster_centers_:\n",
    "    plt.scatter(center[0], center[1], s=120)"
   ]
  },
  {
   "cell_type": "code",
   "execution_count": 29,
   "metadata": {},
   "outputs": [
    {
     "data": {
      "text/plain": [
       "array([0, 2, 1, 2, 0, 2, 1, 2, 2, 1, 1, 0, 0, 1, 1, 0, 0, 1, 0, 0, 1, 0,\n",
       "       0, 1, 1, 1, 2, 0, 0, 0, 0, 2, 2, 0, 1, 1, 1, 1, 2, 2, 0, 1, 2, 1,\n",
       "       1, 2, 0, 0, 0, 2, 2, 2, 1, 0, 0, 0, 1, 1, 2, 1, 0, 2, 0, 2, 0, 0,\n",
       "       2, 0, 2, 2, 2, 0, 0, 1, 2, 0, 2, 0, 2, 2, 1, 2, 1, 0, 1, 1, 1, 2,\n",
       "       1, 2, 2, 2, 1, 2, 1, 1, 1, 2, 0, 1])"
      ]
     },
     "execution_count": 29,
     "metadata": {},
     "output_type": "execute_result"
    }
   ],
   "source": [
    "model.labels_"
   ]
  },
  {
   "cell_type": "code",
   "execution_count": 30,
   "metadata": {},
   "outputs": [
    {
     "data": {
      "text/plain": [
       "array([[-6.95170962, -6.67621669],\n",
       "       [-2.66780392,  8.93576069],\n",
       "       [ 4.49951001,  1.93892013]])"
      ]
     },
     "execution_count": 30,
     "metadata": {},
     "output_type": "execute_result"
    }
   ],
   "source": [
    "model.cluster_centers_"
   ]
  },
  {
   "cell_type": "code",
   "execution_count": null,
   "metadata": {},
   "outputs": [],
   "source": []
  },
  {
   "cell_type": "code",
   "execution_count": null,
   "metadata": {},
   "outputs": [],
   "source": []
  }
 ],
 "metadata": {
  "kernelspec": {
   "display_name": "Python 3",
   "language": "python",
   "name": "python3"
  },
  "language_info": {
   "codemirror_mode": {
    "name": "ipython",
    "version": 3
   },
   "file_extension": ".py",
   "mimetype": "text/x-python",
   "name": "python",
   "nbconvert_exporter": "python",
   "pygments_lexer": "ipython3",
   "version": "3.6.10"
  }
 },
 "nbformat": 4,
 "nbformat_minor": 4
}
