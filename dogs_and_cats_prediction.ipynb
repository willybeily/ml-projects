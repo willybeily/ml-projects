{
 "cells": [
  {
   "cell_type": "code",
   "execution_count": 1,
   "metadata": {},
   "outputs": [
    {
     "name": "stderr",
     "output_type": "stream",
     "text": [
      "Using TensorFlow backend.\n"
     ]
    }
   ],
   "source": [
    "from sklearn.preprocessing import LabelEncoder\n",
    "from sklearn.model_selection import train_test_split\n",
    "from keras.models import Sequential\n",
    "from keras.layers import Activation\n",
    "from keras.optimizers import SGD\n",
    "from keras.layers import Dense\n",
    "from keras.utils import np_utils\n",
    "from imutils import paths\n",
    "import numpy as np\n",
    "import cv2\n",
    "import os"
   ]
  },
  {
   "cell_type": "code",
   "execution_count": 21,
   "metadata": {},
   "outputs": [],
   "source": [
    "import pandas as pd\n",
    "import numpy as np\n",
    "import matplotlib.pyplot as plt\n",
    "\n",
    "\n",
    "# Hide warnings\n",
    "import warnings\n",
    "warnings.filterwarnings('ignore')"
   ]
  },
  {
   "cell_type": "code",
   "execution_count": 66,
   "metadata": {},
   "outputs": [],
   "source": [
    "newwa = r'C:/Users/HP/Downloads/dogs-vs-cats/train/train/cat.'\n",
    "  \n"
   ]
  },
  {
   "cell_type": "code",
   "execution_count": 67,
   "metadata": {},
   "outputs": [],
   "source": [
    "def image_to_feature_vector(image, size=(32, 32)):\n",
    "\t# resize the image to a fixed size, then flatten the image into\n",
    "\t# a list of raw pixel intensities\n",
    "\treturn cv2.resize(image, size).flatten()"
   ]
  },
  {
   "cell_type": "code",
   "execution_count": 69,
   "metadata": {},
   "outputs": [],
   "source": [
    "data=[]\n",
    "rl=[]\n",
    "labels=[]\n",
    "for i in range(12500):\n",
    "    henc=newwa+str(i)+'.jpg'\n",
    "    imgr=cv2.imread(henc)\n",
    "    labels.append('cat')\n",
    "    new_data=image_to_feature_vector(imgr)\n",
    "    data.append(new_data)\n",
    "   \n",
    "   \n",
    "    \n",
    "    "
   ]
  },
  {
   "cell_type": "code",
   "execution_count": 78,
   "metadata": {},
   "outputs": [
    {
     "data": {
      "text/plain": [
       "array([ 83, 109, 135, ...,  26,  34,  51], dtype=uint8)"
      ]
     },
     "execution_count": 78,
     "metadata": {},
     "output_type": "execute_result"
    }
   ],
   "source": [
    "data[300]\n"
   ]
  },
  {
   "cell_type": "code",
   "execution_count": 79,
   "metadata": {},
   "outputs": [
    {
     "data": {
      "text/plain": [
       "'cat'"
      ]
     },
     "execution_count": 79,
     "metadata": {},
     "output_type": "execute_result"
    }
   ],
   "source": [
    "labels[300]"
   ]
  },
  {
   "cell_type": "code",
   "execution_count": 80,
   "metadata": {},
   "outputs": [],
   "source": [
    "neww = r'C:/Users/HP/Downloads/dogs-vs-cats/train/train/dog.'"
   ]
  },
  {
   "cell_type": "code",
   "execution_count": 81,
   "metadata": {},
   "outputs": [],
   "source": [
    "for i in range(12500):\n",
    "    hen=neww+str(i)+'.jpg'\n",
    "    imr=cv2.imread(hen)\n",
    "    labels.append('dog')\n",
    "    new_dat=image_to_feature_vector(imr)\n",
    "    data.append(new_dat)"
   ]
  },
  {
   "cell_type": "code",
   "execution_count": 82,
   "metadata": {},
   "outputs": [
    {
     "data": {
      "text/plain": [
       "array([ 90,  92,  86, ..., 249, 246, 254], dtype=uint8)"
      ]
     },
     "execution_count": 82,
     "metadata": {},
     "output_type": "execute_result"
    }
   ],
   "source": [
    "data[20000]"
   ]
  },
  {
   "cell_type": "code",
   "execution_count": 83,
   "metadata": {},
   "outputs": [
    {
     "data": {
      "text/plain": [
       "'dog'"
      ]
     },
     "execution_count": 83,
     "metadata": {},
     "output_type": "execute_result"
    }
   ],
   "source": [
    "labels[20000]"
   ]
  },
  {
   "cell_type": "code",
   "execution_count": 84,
   "metadata": {},
   "outputs": [],
   "source": [
    "le = LabelEncoder()\n",
    "labels = le.fit_transform(labels)\n",
    "# scale the input image pixels to the range [0, 1], then transform\n",
    "# the labels into vectors in the range [0, num_classes] -- this\n",
    "# generates a vector for each label where the index of the label\n",
    "# is set to `1` and all other entries to `0`\n",
    "data = np.array(data) / 255.0\n",
    "labels = np_utils.to_categorical(labels, 2)"
   ]
  },
  {
   "cell_type": "code",
   "execution_count": 88,
   "metadata": {},
   "outputs": [
    {
     "data": {
      "text/plain": [
       "array([1., 0.], dtype=float32)"
      ]
     },
     "execution_count": 88,
     "metadata": {},
     "output_type": "execute_result"
    }
   ],
   "source": [
    "labels[200]"
   ]
  },
  {
   "cell_type": "code",
   "execution_count": 89,
   "metadata": {},
   "outputs": [],
   "source": [
    "model = Sequential()\n",
    "model.add(Dense(768, input_dim=3072, init=\"uniform\",\n",
    "\tactivation=\"relu\"))\n",
    "model.add(Dense(384, activation=\"relu\", kernel_initializer=\"uniform\"))\n",
    "model.add(Dense(2))\n",
    "model.add(Activation(\"softmax\"))"
   ]
  },
  {
   "cell_type": "code",
   "execution_count": 90,
   "metadata": {},
   "outputs": [
    {
     "name": "stdout",
     "output_type": "stream",
     "text": [
      "Epoch 1/50\n",
      "25000/25000 [==============================] - 14s 549us/step - loss: 0.6821 - accuracy: 0.5626\n",
      "Epoch 2/50\n",
      "25000/25000 [==============================] - 9s 352us/step - loss: 0.6607 - accuracy: 0.5992\n",
      "Epoch 3/50\n",
      "25000/25000 [==============================] - 10s 381us/step - loss: 0.6510 - accuracy: 0.6183\n",
      "Epoch 4/50\n",
      "25000/25000 [==============================] - 9s 378us/step - loss: 0.6433 - accuracy: 0.6280\n",
      "Epoch 5/50\n",
      "25000/25000 [==============================] - 10s 397us/step - loss: 0.6372 - accuracy: 0.6327\n",
      "Epoch 6/50\n",
      "25000/25000 [==============================] - 10s 398us/step - loss: 0.6337 - accuracy: 0.6412\n",
      "Epoch 7/50\n",
      "25000/25000 [==============================] - 9s 360us/step - loss: 0.6299 - accuracy: 0.6435\n",
      "Epoch 8/50\n",
      "25000/25000 [==============================] - 10s 385us/step - loss: 0.6218 - accuracy: 0.6526\n",
      "Epoch 9/50\n",
      "25000/25000 [==============================] - 10s 385us/step - loss: 0.6191 - accuracy: 0.6551\n",
      "Epoch 10/50\n",
      "25000/25000 [==============================] - 9s 373us/step - loss: 0.6134 - accuracy: 0.6600\n",
      "Epoch 11/50\n",
      "25000/25000 [==============================] - 10s 390us/step - loss: 0.6087 - accuracy: 0.6645\n",
      "Epoch 12/50\n",
      "25000/25000 [==============================] - 10s 417us/step - loss: 0.6078 - accuracy: 0.6668\n",
      "Epoch 13/50\n",
      "25000/25000 [==============================] - 10s 401us/step - loss: 0.6018 - accuracy: 0.6731\n",
      "Epoch 14/50\n",
      "25000/25000 [==============================] - 10s 387us/step - loss: 0.5991 - accuracy: 0.6750\n",
      "Epoch 15/50\n",
      "25000/25000 [==============================] - 9s 372us/step - loss: 0.5966 - accuracy: 0.6801\n",
      "Epoch 16/50\n",
      "25000/25000 [==============================] - 10s 394us/step - loss: 0.5932 - accuracy: 0.6816\n",
      "Epoch 17/50\n",
      "25000/25000 [==============================] - 9s 368us/step - loss: 0.5895 - accuracy: 0.6832\n",
      "Epoch 18/50\n",
      "25000/25000 [==============================] - 11s 426us/step - loss: 0.5816 - accuracy: 0.6918\n",
      "Epoch 19/50\n",
      "25000/25000 [==============================] - 10s 389us/step - loss: 0.5808 - accuracy: 0.6902\n",
      "Epoch 20/50\n",
      "25000/25000 [==============================] - 12s 476us/step - loss: 0.5814 - accuracy: 0.6960\n",
      "Epoch 21/50\n",
      "25000/25000 [==============================] - 13s 504us/step - loss: 0.5732 - accuracy: 0.7007\n",
      "Epoch 22/50\n",
      "25000/25000 [==============================] - 10s 415us/step - loss: 0.5705 - accuracy: 0.7031\n",
      "Epoch 23/50\n",
      "25000/25000 [==============================] - 10s 383us/step - loss: 0.5696 - accuracy: 0.7041\n",
      "Epoch 24/50\n",
      "25000/25000 [==============================] - 10s 392us/step - loss: 0.5646 - accuracy: 0.7079\n",
      "Epoch 25/50\n",
      "25000/25000 [==============================] - 10s 396us/step - loss: 0.5596 - accuracy: 0.7123\n",
      "Epoch 26/50\n",
      "25000/25000 [==============================] - 9s 379us/step - loss: 0.5567 - accuracy: 0.7152\n",
      "Epoch 27/50\n",
      "25000/25000 [==============================] - 10s 403us/step - loss: 0.5589 - accuracy: 0.7096\n",
      "Epoch 28/50\n",
      "25000/25000 [==============================] - 10s 388us/step - loss: 0.5492 - accuracy: 0.7199\n",
      "Epoch 29/50\n",
      "25000/25000 [==============================] - 11s 423us/step - loss: 0.5480 - accuracy: 0.7213\n",
      "Epoch 30/50\n",
      "25000/25000 [==============================] - 11s 440us/step - loss: 0.5419 - accuracy: 0.7294\n",
      "Epoch 31/50\n",
      "25000/25000 [==============================] - 14s 546us/step - loss: 0.5421 - accuracy: 0.7236\n",
      "Epoch 32/50\n",
      "25000/25000 [==============================] - 11s 448us/step - loss: 0.5357 - accuracy: 0.7316\n",
      "Epoch 33/50\n",
      "25000/25000 [==============================] - 11s 454us/step - loss: 0.5376 - accuracy: 0.7311\n",
      "Epoch 34/50\n",
      "25000/25000 [==============================] - 10s 397us/step - loss: 0.5258 - accuracy: 0.7389\n",
      "Epoch 35/50\n",
      "25000/25000 [==============================] - 11s 449us/step - loss: 0.5320 - accuracy: 0.7360\n",
      "Epoch 36/50\n",
      "25000/25000 [==============================] - 10s 393us/step - loss: 0.5201 - accuracy: 0.7458\n",
      "Epoch 37/50\n",
      "25000/25000 [==============================] - 10s 386us/step - loss: 0.5231 - accuracy: 0.7410\n",
      "Epoch 38/50\n",
      "25000/25000 [==============================] - 9s 375us/step - loss: 0.5162 - accuracy: 0.7457\n",
      "Epoch 39/50\n",
      "25000/25000 [==============================] - 10s 398us/step - loss: 0.5103 - accuracy: 0.7517s - loss: 0.5092 - ac\n",
      "Epoch 40/50\n",
      "25000/25000 [==============================] - 10s 382us/step - loss: 0.5047 - accuracy: 0.7567\n",
      "Epoch 41/50\n",
      "25000/25000 [==============================] - 10s 405us/step - loss: 0.5055 - accuracy: 0.7507\n",
      "Epoch 42/50\n",
      "25000/25000 [==============================] - 11s 439us/step - loss: 0.5076 - accuracy: 0.7512\n",
      "Epoch 43/50\n",
      "25000/25000 [==============================] - 13s 506us/step - loss: 0.5011 - accuracy: 0.7566\n",
      "Epoch 44/50\n",
      "25000/25000 [==============================] - 10s 408us/step - loss: 0.4973 - accuracy: 0.7596\n",
      "Epoch 45/50\n",
      "25000/25000 [==============================] - 14s 572us/step - loss: 0.4908 - accuracy: 0.7664\n",
      "Epoch 46/50\n",
      "25000/25000 [==============================] - 11s 451us/step - loss: 0.4893 - accuracy: 0.7650\n",
      "Epoch 47/50\n",
      "25000/25000 [==============================] - 11s 448us/step - loss: 0.4802 - accuracy: 0.7735\n",
      "Epoch 48/50\n",
      "25000/25000 [==============================] - 12s 472us/step - loss: 0.4815 - accuracy: 0.7723\n",
      "Epoch 49/50\n",
      "25000/25000 [==============================] - 12s 482us/step - loss: 0.4761 - accuracy: 0.7754\n",
      "Epoch 50/50\n",
      "25000/25000 [==============================] - 12s 462us/step - loss: 0.4774 - accuracy: 0.7761\n"
     ]
    },
    {
     "data": {
      "text/plain": [
       "<keras.callbacks.callbacks.History at 0x23f8d37fa58>"
      ]
     },
     "execution_count": 90,
     "metadata": {},
     "output_type": "execute_result"
    }
   ],
   "source": [
    "sgd = SGD(lr=0.01)\n",
    "model.compile(loss=\"binary_crossentropy\", optimizer=sgd,\n",
    "\tmetrics=[\"accuracy\"])\n",
    "model.fit(data, labels, epochs=50, batch_size=128,\n",
    "\tverbose=1)"
   ]
  },
  {
   "cell_type": "code",
   "execution_count": 115,
   "metadata": {},
   "outputs": [],
   "source": [
    "testpd=r'C:/Users/HP/Downloads/dogs-vs-cats/test1/test1/'"
   ]
  },
  {
   "cell_type": "code",
   "execution_count": 165,
   "metadata": {},
   "outputs": [],
   "source": [
    "testpi=20\n",
    "newtestdp=testpd+str(testpi)+'.jpg'"
   ]
  },
  {
   "cell_type": "code",
   "execution_count": 166,
   "metadata": {},
   "outputs": [
    {
     "data": {
      "text/plain": [
       "'C:/Users/HP/Downloads/dogs-vs-cats/test1/test1/20.jpg'"
      ]
     },
     "execution_count": 166,
     "metadata": {},
     "output_type": "execute_result"
    }
   ],
   "source": [
    "newtestdp"
   ]
  },
  {
   "cell_type": "code",
   "execution_count": 167,
   "metadata": {},
   "outputs": [],
   "source": [
    "testcvp=cv2.imread(newtestdp)\n",
    "features = image_to_feature_vector(testcvp) / 255.0\n",
    "features = np.array([features])\n"
   ]
  },
  {
   "cell_type": "code",
   "execution_count": 168,
   "metadata": {
    "scrolled": true
   },
   "outputs": [],
   "source": [
    "probs = model.predict(features)[0]\n",
    "prediction = probs.argmax(axis=0)"
   ]
  },
  {
   "cell_type": "code",
   "execution_count": 169,
   "metadata": {},
   "outputs": [
    {
     "name": "stdout",
     "output_type": "stream",
     "text": [
      "cat\n"
     ]
    }
   ],
   "source": [
    "if prediction==0:\n",
    "    print('cat')\n",
    "else:\n",
    "    print('dog')"
   ]
  },
  {
   "cell_type": "code",
   "execution_count": null,
   "metadata": {},
   "outputs": [],
   "source": []
  },
  {
   "cell_type": "code",
   "execution_count": null,
   "metadata": {},
   "outputs": [],
   "source": []
  }
 ],
 "metadata": {
  "kernelspec": {
   "display_name": "Python 3",
   "language": "python",
   "name": "python3"
  },
  "language_info": {
   "codemirror_mode": {
    "name": "ipython",
    "version": 3
   },
   "file_extension": ".py",
   "mimetype": "text/x-python",
   "name": "python",
   "nbconvert_exporter": "python",
   "pygments_lexer": "ipython3",
   "version": "3.6.9"
  }
 },
 "nbformat": 4,
 "nbformat_minor": 4
}
